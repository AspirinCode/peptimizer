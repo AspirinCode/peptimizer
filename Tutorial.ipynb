{
 "cells": [
  {
   "cell_type": "code",
   "execution_count": null,
   "metadata": {},
   "outputs": [],
   "source": [
    "import utils.generator as gen\n",
    "import utils.predictor as pred\n",
    "import utils.optimizer as opt\n",
    "import utils.activator as act\n",
    "\n",
    "import numpy as np\n",
    "import pandas as pd\n",
    "from matplotlib import pyplot as plt"
   ]
  },
  {
   "cell_type": "markdown",
   "metadata": {},
   "source": [
    "Filepath for models<br>\n",
    "In case you would like to reproduce the work, it is suggested that you download the pre-trained models to this path."
   ]
  },
  {
   "cell_type": "code",
   "execution_count": 2,
   "metadata": {},
   "outputs": [],
   "source": [
    "MODELS_PATH = './model/'"
   ]
  },
  {
   "cell_type": "markdown",
   "metadata": {},
   "source": [
    "### Training"
   ]
  },
  {
   "cell_type": "markdown",
   "metadata": {},
   "source": [
    "#### Generator - RNN-Nested LSTM"
   ]
  },
  {
   "cell_type": "markdown",
   "metadata": {},
   "source": [
    "Filepath of dataset used to train the generator. <br>You may use a custom text file (*.txt) with a list of sequences."
   ]
  },
  {
   "cell_type": "code",
   "execution_count": 3,
   "metadata": {},
   "outputs": [],
   "source": [
    "gen_dataset = './dataset/generator_dataset.txt'"
   ]
  },
  {
   "cell_type": "markdown",
   "metadata": {},
   "source": [
    "Loading the dataset as (X, y) for training, where<br>\n",
    "X:  seed sequences used to train the generator<br>\n",
    "y:  next amino acid for respective seed sequences"
   ]
  },
  {
   "cell_type": "code",
   "execution_count": 4,
   "metadata": {},
   "outputs": [
    {
     "name": "stdout",
     "output_type": "stream",
     "text": [
      "Loading Data for Training of Generator\n",
      "Pre-Processing Data for Generator\n",
      "Featurizing Data for Generator\n"
     ]
    }
   ],
   "source": [
    "X, y = gen.load_data(gen_dataset)"
   ]
  },
  {
   "cell_type": "markdown",
   "metadata": {},
   "source": [
    "Training of generator"
   ]
  },
  {
   "cell_type": "code",
   "execution_count": 5,
   "metadata": {},
   "outputs": [
    {
     "name": "stdout",
     "output_type": "stream",
     "text": [
      "Creating Model for Generator\n",
      "Starting Training of Generator\n",
      "Train on 15847 samples, validate on 3962 samples\n",
      "Epoch 1/5\n",
      "15847/15847 [==============================] - 12s 745us/step - loss: 2.7300 - acc: 0.1988 - val_loss: 2.6663 - val_acc: 0.2201\n",
      "Epoch 2/5\n",
      "15847/15847 [==============================] - 7s 442us/step - loss: 2.6850 - acc: 0.2105 - val_loss: 2.6612 - val_acc: 0.2201\n",
      "Epoch 3/5\n",
      "15847/15847 [==============================] - 7s 442us/step - loss: 2.6822 - acc: 0.2110 - val_loss: 2.6619 - val_acc: 0.2201\n",
      "Epoch 4/5\n",
      "15847/15847 [==============================] - 7s 444us/step - loss: 2.6811 - acc: 0.2110 - val_loss: 2.6579 - val_acc: 0.2201\n",
      "Epoch 5/5\n",
      "15847/15847 [==============================] - 7s 444us/step - loss: 2.6805 - acc: 0.2110 - val_loss: 2.6626 - val_acc: 0.2201\n"
     ]
    }
   ],
   "source": [
    "model_lstm = gen.train_model(X, y)"
   ]
  },
  {
   "cell_type": "markdown",
   "metadata": {},
   "source": [
    "Saving trained model"
   ]
  },
  {
   "cell_type": "code",
   "execution_count": null,
   "metadata": {},
   "outputs": [],
   "source": [
    "model_lstm.save(filepath=MODELS_PATH+'generator.hdf5')"
   ]
  },
  {
   "cell_type": "markdown",
   "metadata": {},
   "source": [
    "#### Predictor - Conv1D"
   ]
  },
  {
   "cell_type": "markdown",
   "metadata": {},
   "source": [
    "Filepath of dataset used to train the predictor. <br>You may use a custom csv file with a list of sequences and biological activity."
   ]
  },
  {
   "cell_type": "code",
   "execution_count": 6,
   "metadata": {},
   "outputs": [],
   "source": [
    "pred_dataset = './dataset/predictor_dataset.csv'"
   ]
  },
  {
   "cell_type": "markdown",
   "metadata": {},
   "source": [
    "Loading dataset as (X, y, X_valid, y_valid, dict_data) for training, where<br>\n",
    "X, X_valid:  feature maps of sequences used to train and validate the predictor<br>\n",
    "y, y_valid:  intensities corresponding to the sequences<br>\n",
    "dict_data:  mean and standard deviation of intensity<br>"
   ]
  },
  {
   "cell_type": "code",
   "execution_count": 7,
   "metadata": {},
   "outputs": [
    {
     "name": "stdout",
     "output_type": "stream",
     "text": [
      "Loading Data for Training of Predictor\n",
      "Featurizing Data for Predictor\n"
     ]
    }
   ],
   "source": [
    "X, y, X_valid, y_valid, dict_data = pred.load_data(pred_dataset)"
   ]
  },
  {
   "cell_type": "markdown",
   "metadata": {},
   "source": [
    "Training of predictor"
   ]
  },
  {
   "cell_type": "code",
   "execution_count": 8,
   "metadata": {},
   "outputs": [
    {
     "name": "stdout",
     "output_type": "stream",
     "text": [
      "Creating Model for Predictor\n",
      "Train on 409 samples, validate on 103 samples\n",
      "Epoch 1/5\n",
      "409/409 [==============================] - 2s 6ms/step - loss: 0.7822 - val_loss: 0.5643\n",
      "Epoch 2/5\n",
      "409/409 [==============================] - 0s 1ms/step - loss: 0.4313 - val_loss: 0.5010\n",
      "Epoch 3/5\n",
      "409/409 [==============================] - 0s 1ms/step - loss: 0.4517 - val_loss: 0.4784\n",
      "Epoch 4/5\n",
      "409/409 [==============================] - 0s 1ms/step - loss: 0.4835 - val_loss: 0.4786\n",
      "Epoch 5/5\n",
      "409/409 [==============================] - 1s 1ms/step - loss: 0.4194 - val_loss: 0.4812\n"
     ]
    }
   ],
   "source": [
    "model_cnn = pred.train_model(X, y)"
   ]
  },
  {
   "cell_type": "markdown",
   "metadata": {},
   "source": [
    "Saving trained model"
   ]
  },
  {
   "cell_type": "code",
   "execution_count": null,
   "metadata": {},
   "outputs": [],
   "source": [
    "model_cnn.save(filepath=MODELS_PATH+'predictor.hdf5')"
   ]
  },
  {
   "cell_type": "markdown",
   "metadata": {},
   "source": [
    "Evaluating performance of predictor"
   ]
  },
  {
   "cell_type": "code",
   "execution_count": 9,
   "metadata": {},
   "outputs": [
    {
     "data": {
      "image/png": "[encoded data removed]",
      "text/plain": [
       "<Figure size 432x288 with 1 Axes>"
      ]
     },
     "metadata": {},
     "output_type": "display_data"
    }
   ],
   "source": [
    "plt.scatter(\n",
    "    y_valid,\n",
    "    model_cnn.predict(X_valid)*dict_data['std_Intensity']+dict_data['mean_Intensity']\n",
    "           )\n",
    "\n",
    "plt.ylabel('Predicted Intensity', fontdict={'size':16})\n",
    "plt.xlabel('Experimental Intensity', fontdict={'size':16})\n",
    "plt.tick_params(labelsize=14)\n",
    "plt.show()"
   ]
  },
  {
   "cell_type": "markdown",
   "metadata": {},
   "source": [
    "### Sample and optimize new sequences"
   ]
  },
  {
   "cell_type": "markdown",
   "metadata": {},
   "source": [
    "Sample 'n' number of seeds using pre-trained generator"
   ]
  },
  {
   "cell_type": "code",
   "execution_count": 10,
   "metadata": {},
   "outputs": [
    {
     "name": "stdout",
     "output_type": "stream",
     "text": [
      "Generating Seeds for Optimizer\n",
      "Creating Model for Generator\n",
      "Loading Model for Generator\n",
      "Generating Seed  1\n",
      "Generating Seed  2\n"
     ]
    },
    {
     "data": {
      "text/plain": [
       "['CTSTTAKRKKRKKRKKRKKRKKRKKRKKRK', 'LLKTTALLKTTALLKTTALLKTTALLKTTA']"
      ]
     },
     "execution_count": 10,
     "metadata": {},
     "output_type": "execute_result"
    }
   ],
   "source": [
    "n = 2\n",
    "list_seeds = gen.generate_seed(n, model_lstm_path=MODELS_PATH+'generator.hdf5')\n",
    "list_seeds"
   ]
  },
  {
   "cell_type": "markdown",
   "metadata": {},
   "source": [
    "Optimize the generated seeds using directed evolution with pre-trained predictor"
   ]
  },
  {
   "cell_type": "code",
   "execution_count": 11,
   "metadata": {},
   "outputs": [
    {
     "name": "stdout",
     "output_type": "stream",
     "text": [
      "Setting up Optimizer\n",
      "Loading Model for Predictor\n",
      "Optimizing Seed  1\n",
      "Optimizing Seed  2\n",
      "Post-Processing Optimized Sequences\n"
     ]
    }
   ],
   "source": [
    "ga_df = opt.optimize(list_seeds, model_cnn_path=MODELS_PATH+'predictor.hdf5')"
   ]
  },
  {
   "cell_type": "code",
   "execution_count": 12,
   "metadata": {},
   "outputs": [
    {
     "data": {
      "text/html": [
       "<div>\n",
       "<style scoped>\n",
       "    .dataframe tbody tr th:only-of-type {\n",
       "        vertical-align: middle;\n",
       "    }\n",
       "\n",
       "    .dataframe tbody tr th {\n",
       "        vertical-align: top;\n",
       "    }\n",
       "\n",
       "    .dataframe thead th {\n",
       "        text-align: right;\n",
       "    }\n",
       "</style>\n",
       "<table border=\"1\" class=\"dataframe\">\n",
       "  <thead>\n",
       "    <tr style=\"text-align: right;\">\n",
       "      <th></th>\n",
       "      <th>sequences</th>\n",
       "      <th>intensity</th>\n",
       "      <th>length</th>\n",
       "      <th>relative_Arg</th>\n",
       "      <th>relative_charge</th>\n",
       "    </tr>\n",
       "  </thead>\n",
       "  <tbody>\n",
       "    <tr>\n",
       "      <th>11</th>\n",
       "      <td>LLKTTCYLKTTALLKTAILKLTQALLKTTA</td>\n",
       "      <td>5.01687</td>\n",
       "      <td>30</td>\n",
       "      <td>0</td>\n",
       "      <td>0.164989</td>\n",
       "    </tr>\n",
       "    <tr>\n",
       "      <th>10</th>\n",
       "      <td>LLKTTAYLKTTALLKTAILKLTQALLKTTA</td>\n",
       "      <td>4.96663</td>\n",
       "      <td>30</td>\n",
       "      <td>0</td>\n",
       "      <td>0.166352</td>\n",
       "    </tr>\n",
       "  </tbody>\n",
       "</table>\n",
       "</div>"
      ],
      "text/plain": [
       "                         sequences intensity length relative_Arg  \\\n",
       "11  LLKTTCYLKTTALLKTAILKLTQALLKTTA   5.01687     30            0   \n",
       "10  LLKTTAYLKTTALLKTAILKLTQALLKTTA   4.96663     30            0   \n",
       "\n",
       "   relative_charge  \n",
       "11        0.164989  \n",
       "10        0.166352  "
      ]
     },
     "execution_count": 12,
     "metadata": {},
     "output_type": "execute_result"
    }
   ],
   "source": [
    "ga_df.head(2)"
   ]
  },
  {
   "cell_type": "markdown",
   "metadata": {},
   "source": [
    "### Gradient activation analysis"
   ]
  },
  {
   "cell_type": "markdown",
   "metadata": {},
   "source": [
    "Visualize the gradient activation of peptide sequence based on pre-trained predictor"
   ]
  },
  {
   "cell_type": "code",
   "execution_count": 13,
   "metadata": {},
   "outputs": [
    {
     "name": "stdout",
     "output_type": "stream",
     "text": [
      "Loading Model for Predictor\n",
      "Positive activation for feature map\n"
     ]
    },
    {
     "data": {
      "image/png": "[encoded data removed]",
      "text/plain": [
       "<Figure size 432x288 with 2 Axes>"
      ]
     },
     "metadata": {},
     "output_type": "display_data"
    },
    {
     "name": "stdout",
     "output_type": "stream",
     "text": [
      "Positive activation averaged over residues\n"
     ]
    },
    {
     "data": {
      "image/png": "[encoded data removed]",
      "text/plain": [
       "<Figure size 432x288 with 2 Axes>"
      ]
     },
     "metadata": {},
     "output_type": "display_data"
    },
    {
     "name": "stdout",
     "output_type": "stream",
     "text": [
      "Positive activation averaged over fingerprints\n"
     ]
    },
    {
     "data": {
      "image/png": "[encoded data removed]",
      "text/plain": [
       "<Figure size 432x288 with 2 Axes>"
      ]
     },
     "metadata": {},
     "output_type": "display_data"
    }
   ],
   "source": [
    "penetratin = 'RQIKIWFQNRRMKWKK'\n",
    "act.activation_analysis(penetratin, model_cnn_path=MODELS_PATH+'predictor.hdf5')"
   ]
  }
 ],
 "metadata": {
  "kernelspec": {
   "display_name": "Python 3",
   "language": "python",
   "name": "python3"
  },
  "language_info": {
   "codemirror_mode": {
    "name": "ipython",
    "version": 3
   },
   "file_extension": ".py",
   "mimetype": "text/x-python",
   "name": "python",
   "nbconvert_exporter": "python",
   "pygments_lexer": "ipython3",
   "version": "3.6.7"
  }
 },
 "nbformat": 4,
 "nbformat_minor": 2
}
